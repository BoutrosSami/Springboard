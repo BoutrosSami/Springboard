{
 "cells": [
  {
   "cell_type": "code",
   "execution_count": 153,
   "metadata": {},
   "outputs": [],
   "source": [
    "'''Question 1: Collect data from the Franfurt Stock Exchange, for the ticker AFX_X, for the whole year 2017(keep in mind that the date format is YYYY-MM-DD).'''\n",
    "\n",
    "import requests\n",
    "\n",
    "r =  requests.get('https://www.quandl.com/api/v3/datasets/FSE/AFX_X/data.json?&start_date=2017-01-01&end_date=2017-12-31&api_key=hsF1GqRN2yDDG6_2BQwk')"
   ]
  },
  {
   "cell_type": "code",
   "execution_count": 154,
   "metadata": {},
   "outputs": [
    {
     "name": "stdout",
     "output_type": "stream",
     "text": [
      "<class 'dict'>\n"
     ]
    }
   ],
   "source": [
    "'''Question 2: Convert the returned JSON object into a Python dictionary.'''\n",
    "\n",
    "data_2017 = dict(r.json())\n",
    "print(type(data_2017))"
   ]
  },
  {
   "cell_type": "code",
   "execution_count": 155,
   "metadata": {},
   "outputs": [
    {
     "data": {
      "text/plain": [
       "254"
      ]
     },
     "execution_count": 155,
     "metadata": {},
     "output_type": "execute_result"
    }
   ],
   "source": [
    "data = data_2017['dataset_data']['data']"
   ]
  },
  {
   "cell_type": "code",
   "execution_count": 156,
   "metadata": {},
   "outputs": [
    {
     "name": "stdout",
     "output_type": "stream",
     "text": [
      "34.0\n"
     ]
    }
   ],
   "source": [
    "'''Question 3A: Calculate what the lowest opening prices were for the stock in this period.'''\n",
    "\n",
    "minimum = data[0][1]\n",
    "\n",
    "for n in range(0,len(data)):\n",
    "    if data[n][1] != None:\n",
    "        if data[n][1] < minimum:\n",
    "            minimum = data[n][1]\n",
    "            \n",
    "print(minimum)"
   ]
  },
  {
   "cell_type": "code",
   "execution_count": 128,
   "metadata": {},
   "outputs": [
    {
     "name": "stdout",
     "output_type": "stream",
     "text": [
      "53.11\n"
     ]
    }
   ],
   "source": [
    "'''Question 3B: Calculate what the highest opening prices were for the stock in this period.'''\n",
    "\n",
    "maximum = data[0][1]\n",
    "\n",
    "for n in range(0,len(data)):\n",
    "    if data[n][1] != None:\n",
    "        if data[n][1] > maximum:\n",
    "            maximum = data[n][1]\n",
    "            \n",
    "print(maximum)"
   ]
  },
  {
   "cell_type": "code",
   "execution_count": 142,
   "metadata": {},
   "outputs": [
    {
     "name": "stdout",
     "output_type": "stream",
     "text": [
      "2.8100000000000023\n"
     ]
    }
   ],
   "source": [
    "'''Question 4: What was the largest change in any one day (based on High and Low price)?'''\n",
    "\n",
    "max_delta_intraday = data[0][2] - data[0][3]\n",
    "\n",
    "for n in range(0,len(data)):\n",
    "    if (data[n][2] != None) and (data[n][3] != None):\n",
    "        new = (data[n][2] - data[n][3])\n",
    "        if new > max_delta:\n",
    "            max_delta = new\n",
    "            \n",
    "print(max_delta)"
   ]
  },
  {
   "cell_type": "code",
   "execution_count": 147,
   "metadata": {},
   "outputs": [
    {
     "name": "stdout",
     "output_type": "stream",
     "text": [
      "2.559999999999995\n"
     ]
    }
   ],
   "source": [
    "'''Question 5: What was the largest change between any two days (based on Closing Price)?'''\n",
    "\n",
    "max_delta_day_to_day = abs(data[0][4] - data[1][4])\n",
    "\n",
    "for n in range(0,len(data)-1):\n",
    "    if (data[n][4] != None) and (data[n+1][4] != None):\n",
    "        new = abs(data[n][4] - data[n+1][4])\n",
    "        if new > max_delta_day_to_day:\n",
    "            max_delta_day_to_day = new\n",
    "            \n",
    "print(max_delta_day_to_day)"
   ]
  },
  {
   "cell_type": "code",
   "execution_count": 151,
   "metadata": {},
   "outputs": [
    {
     "name": "stdout",
     "output_type": "stream",
     "text": [
      "89124.33725490196\n"
     ]
    }
   ],
   "source": [
    "'''Question 6: What was the average daily trading volume during this year?'''\n",
    "\n",
    "traded_vol = 0\n",
    "\n",
    "for n in range(0,len(data)):\n",
    "    if (data[n][6] != None):\n",
    "        traded_vol = traded_vol + data[n][6]\n",
    "            \n",
    "avg_traded_vol = traded_vol / len(data)\n",
    "print(avg_traded_vol)"
   ]
  }
 ],
 "metadata": {
  "kernelspec": {
   "display_name": "Python 3",
   "language": "python",
   "name": "python3"
  },
  "language_info": {
   "codemirror_mode": {
    "name": "ipython",
    "version": 3
   },
   "file_extension": ".py",
   "mimetype": "text/x-python",
   "name": "python",
   "nbconvert_exporter": "python",
   "pygments_lexer": "ipython3",
   "version": "3.7.3"
  }
 },
 "nbformat": 4,
 "nbformat_minor": 2
}
