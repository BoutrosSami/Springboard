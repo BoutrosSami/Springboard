{
 "cells": [
  {
   "cell_type": "code",
   "execution_count": 1,
   "metadata": {},
   "outputs": [],
   "source": [
    "import pandas as pd\n",
    "import json\n",
    "import re"
   ]
  },
  {
   "cell_type": "code",
   "execution_count": 2,
   "metadata": {
    "scrolled": false
   },
   "outputs": [],
   "source": [
    "data = json.load((open('data_wrangling_json/data_wrangling_json/data/world_bank_projects.json')))\n",
    "\n",
    "data_less = json.load((open('data_wrangling_json/data_wrangling_json/data/world_bank_projects_less.json')))\n",
    "\n",
    "\n",
    "sample_json_df = pd.read_json('data_wrangling_json/data_wrangling_json/data/world_bank_projects.json')\n",
    "\n",
    "sample_json_df_less = pd.read_json('data_wrangling_json/data_wrangling_json/data/world_bank_projects_less.json')"
   ]
  },
  {
   "cell_type": "code",
   "execution_count": 84,
   "metadata": {},
   "outputs": [],
   "source": [
    "country = sample_json_df.groupby('countryname')\n",
    "country_description = country.describe()\n",
    "country_count = country_description['approvalfy']['count'].sort_values(ascending = False)\n",
    "top_ten = country_count[:10].to_frame()"
   ]
  },
  {
   "cell_type": "code",
   "execution_count": 89,
   "metadata": {},
   "outputs": [
    {
     "data": {
      "text/plain": [
       "500"
      ]
     },
     "execution_count": 89,
     "metadata": {},
     "output_type": "execute_result"
    }
   ],
   "source": [
    "'''DROP DUPLICATES method 1'''\n",
    "\n",
    "theme = sample_json_df\n",
    "theme = theme_test.astype(str)\n",
    "theme = theme_test.drop_duplicates()\n",
    "len(theme)"
   ]
  },
  {
   "cell_type": "code",
   "execution_count": 92,
   "metadata": {},
   "outputs": [
    {
     "data": {
      "text/plain": [
       "342"
      ]
     },
     "execution_count": 92,
     "metadata": {},
     "output_type": "execute_result"
    }
   ],
   "source": [
    "'''DROP_DUPLICATES method 2'''\n",
    "\n",
    "theme = theme_test['mjtheme_namecode']\n",
    "theme = theme.astype(str)\n",
    "theme = theme.drop_duplicates().to_frame()\n",
    "len(theme)"
   ]
  },
  {
   "cell_type": "code",
   "execution_count": 93,
   "metadata": {},
   "outputs": [],
   "source": [
    "code_dict = {'1': 'Economic management',\n",
    "            '2': 'Public sector governance',\n",
    "            '3': 'Rule of law',\n",
    "            '4': 'Financial and private sector development',\n",
    "            '5': 'Trade and integration',\n",
    "            '6': 'Social protection and risk management',\n",
    "            '7': 'Social dev/gender/inclusion',\n",
    "            '8': 'Human development',\n",
    "            '9': 'Urban development',\n",
    "            '10': 'Rural development',\n",
    "            '11': 'Environment and natural resources management'}\n",
    "\n",
    "code_df = pd.DataFrame.from_dict(code_dict, orient='index', columns=['Theme'])"
   ]
  },
  {
   "cell_type": "code",
   "execution_count": 94,
   "metadata": {},
   "outputs": [
    {
     "name": "stdout",
     "output_type": "stream",
     "text": [
      "Rural development : 176\n",
      "Public sector governance : 159\n",
      "Environment and natural resources management : 157\n",
      "Social protection and risk management : 140\n",
      "Human development : 119\n",
      "Financial and private sector development : 111\n",
      "Social dev/gender/inclusion : 108\n",
      "Trade and integration : 69\n",
      "Urban development : 40\n",
      "Economic management : 34\n",
      "Rule of law : 14\n"
     ]
    }
   ],
   "source": [
    "code_list = []\n",
    "theme_list = []\n",
    "\n",
    "for row in theme.itertuples():\n",
    "    line = row.mjtheme_namecode\n",
    "    digits = re.findall(r'\\d+', line)\n",
    "    code_list.append(digits)\n",
    "\n",
    "for dig in code_list:\n",
    "    for item in dig:\n",
    "        theme_list.append(code_dict[item])\n",
    "        \n",
    "theme_counts = {i:theme_list.count(i) for i in theme_list}\n",
    "\n",
    "\n",
    "listofTuples = sorted(theme_counts.items(), reverse=True, key=lambda x: x[1])\n",
    " \n",
    "for elem in listofTuples :\n",
    "    print(elem[0] , \":\" , elem[1] )"
   ]
  },
  {
   "cell_type": "code",
   "execution_count": null,
   "metadata": {},
   "outputs": [],
   "source": []
  },
  {
   "cell_type": "code",
   "execution_count": null,
   "metadata": {},
   "outputs": [],
   "source": []
  },
  {
   "cell_type": "code",
   "execution_count": null,
   "metadata": {},
   "outputs": [],
   "source": []
  },
  {
   "cell_type": "code",
   "execution_count": 125,
   "metadata": {},
   "outputs": [],
   "source": [
    "'''EXTRA THROW AWAY CODE'''\n",
    "\n",
    "code_list = []\n",
    "\n",
    "for row in theme:\n",
    "    for code in row:\n",
    "        this = code['code']\n",
    "        code_list.append(this)\n",
    "\n",
    "one_count = sum('1' in s for s in code_list)\n",
    "two_count = sum('2' in s for s in code_list)\n",
    "three_count = sum('3' in s for s in code_list)\n",
    "four_count = sum('4' in s for s in code_list)\n",
    "five_count = sum('5' in s for s in code_list)\n",
    "six_count = sum('6' in s for s in code_list)\n",
    "seven_count = sum('7' in s for s in code_list)\n",
    "eight_count = sum('8' in s for s in code_list)\n",
    "nine_count = sum('9' in s for s in code_list)\n",
    "ten_count = sum('10' in s for s in code_list)\n",
    "eleven_count  = sum('11' in s for s in code_list)\n",
    "\n",
    "count_list = [(one_count,'1'), (two_count,'2'), (three_count,'3'), (four_count,'4'),\n",
    "              (five_count,'5'), (six_count,'6'), (seven_count,'7'), (eight_count,'8'),\n",
    "              (nine_count,'9'), (ten_count,'10'), (eleven_count,'11')]\n",
    "\n",
    "count_list.sort(reverse = True)"
   ]
  },
  {
   "cell_type": "code",
   "execution_count": 15,
   "metadata": {},
   "outputs": [],
   "source": []
  },
  {
   "cell_type": "code",
   "execution_count": null,
   "metadata": {
    "scrolled": true
   },
   "outputs": [],
   "source": [
    "\n"
   ]
  },
  {
   "cell_type": "code",
   "execution_count": null,
   "metadata": {},
   "outputs": [],
   "source": []
  },
  {
   "cell_type": "code",
   "execution_count": null,
   "metadata": {},
   "outputs": [],
   "source": []
  }
 ],
 "metadata": {
  "kernelspec": {
   "display_name": "Python 3",
   "language": "python",
   "name": "python3"
  },
  "language_info": {
   "codemirror_mode": {
    "name": "ipython",
    "version": 3
   },
   "file_extension": ".py",
   "mimetype": "text/x-python",
   "name": "python",
   "nbconvert_exporter": "python",
   "pygments_lexer": "ipython3",
   "version": "3.7.3"
  }
 },
 "nbformat": 4,
 "nbformat_minor": 2
}
