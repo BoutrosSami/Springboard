{
 "cells": [
  {
   "cell_type": "code",
   "execution_count": 34,
   "metadata": {},
   "outputs": [],
   "source": [
    "import pandas as pd\n",
    "import json\n",
    "import re"
   ]
  },
  {
   "cell_type": "code",
   "execution_count": 35,
   "metadata": {
    "scrolled": false
   },
   "outputs": [],
   "source": [
    "data = json.load((open('data_wrangling_json/data_wrangling_json/data/world_bank_projects.json')))\n",
    "\n",
    "sample_json_df = pd.read_json('data_wrangling_json/data_wrangling_json/data/world_bank_projects.json')"
   ]
  },
  {
   "cell_type": "code",
   "execution_count": 36,
   "metadata": {},
   "outputs": [],
   "source": [
    "country = sample_json_df.groupby('countryname')\n",
    "country_description = country.describe()\n",
    "country_count = country_description['approvalfy']['count'].sort_values(ascending = False)\n",
    "top_ten = country_count[:10].to_frame()\n",
    "#top_ten"
   ]
  },
  {
   "cell_type": "code",
   "execution_count": 37,
   "metadata": {},
   "outputs": [],
   "source": [
    "theme = sample_json_df\n",
    "theme = theme.astype(str)\n",
    "theme = theme.drop_duplicates()"
   ]
  },
  {
   "cell_type": "code",
   "execution_count": 38,
   "metadata": {},
   "outputs": [],
   "source": [
    "code_dict = {'1': 'Economic management',\n",
    "            '2': 'Public sector governance',\n",
    "            '3': 'Rule of law',\n",
    "            '4': 'Financial and private sector development',\n",
    "            '5': 'Trade and integration',\n",
    "            '6': 'Social protection and risk management',\n",
    "            '7': 'Social dev/gender/inclusion',\n",
    "            '8': 'Human development',\n",
    "            '9': 'Urban development',\n",
    "            '10': 'Rural development',\n",
    "            '11': 'Environment and natural resources management'}\n",
    "\n",
    "code_df = pd.DataFrame.from_dict(code_dict, orient='index', columns=['Theme'])"
   ]
  },
  {
   "cell_type": "code",
   "execution_count": 39,
   "metadata": {},
   "outputs": [
    {
     "name": "stdout",
     "output_type": "stream",
     "text": [
      "Top 10 Major World Bank Project Themes:\n",
      "\n"
     ]
    }
   ],
   "source": [
    "code_list = []\n",
    "theme_list = []\n",
    "\n",
    "for row in theme.itertuples():\n",
    "    line = row.mjtheme_namecode\n",
    "    digits = re.findall(r'\\d+', line)\n",
    "    code_list.append(digits)\n",
    "\n",
    "for dig in code_list:\n",
    "    for item in dig:\n",
    "        theme_list.append(code_dict[item])\n",
    "        \n",
    "theme_counts = {i:theme_list.count(i) for i in theme_list}\n",
    "\n",
    "listofTuples = sorted(theme_counts.items(), reverse=True, key=lambda x: x[1])\n",
    "\n",
    "print('Top 10 Major World Bank Project Themes:\\n')\n",
    "#for elem in listofTuples[:10]:\n",
    "    #print(elem[0], \":\", elem[1] )"
   ]
  },
  {
   "cell_type": "code",
   "execution_count": 40,
   "metadata": {},
   "outputs": [],
   "source": [
    "from pandas.io.json import json_normalize\n",
    "\n",
    "df_themes = json_normalize(raw, 'mjtheme_namecode', ['id'])\n",
    "\n",
    "df = pd.read_json('data_wrangling_json/data_wrangling_json/data/world_bank_projects.json')\n",
    "\n",
    "\n",
    "with open('data_wrangling_json/data_wrangling_json/data/world_bank_projects.json') as f:\n",
    "    raw = json.load(f)\n",
    "\n",
    "\n",
    "df_themes_name_to_code = df_themes.groupby('name').code.max().sort_values(ascending=False)\n",
    "df_themes_name_to_code = df_themes_name_to_code[df_themes_name_to_code.index != '']\n",
    "df_themes_name_to_code = pd.DataFrame(df_themes_name_to_code,columns=['code'])\n",
    "df_themes_name_to_code['name_clean'] = df_themes_name_to_code.index\n",
    "df_themes_code_to_name = df_themes_name_to_code.set_index(['code'])\n",
    "df_themes_clean = df_themes.merge(df_themes_code_to_name,how='outer',left_on=['code'],right_index=True)\n",
    "df_theme_names = pd.DataFrame(df_themes_clean.groupby('id').apply(lambda x: '|'.join(x['name_clean'])),columns=['theme_names'])\n",
    "df_theme_codes = pd.DataFrame(df_themes.groupby('id').apply(lambda x: '|'.join(x['code'])),columns=['theme_codes'])\n",
    "df_theme_lut = df_theme_names.merge(df_theme_codes,left_index=True,right_index=True)\n",
    "df_theme_lut.head()\n",
    "df_cleaned = df.merge(df_theme_lut,how='right',left_on=['id'],right_index=True,)\n",
    "#df_cleaned[['id','mjtheme_namecode','theme_names','theme_codes']]"
   ]
  },
  {
   "cell_type": "code",
   "execution_count": null,
   "metadata": {},
   "outputs": [],
   "source": []
  },
  {
   "cell_type": "code",
   "execution_count": null,
   "metadata": {},
   "outputs": [],
   "source": []
  },
  {
   "cell_type": "code",
   "execution_count": null,
   "metadata": {},
   "outputs": [],
   "source": []
  },
  {
   "cell_type": "code",
   "execution_count": null,
   "metadata": {},
   "outputs": [],
   "source": []
  },
  {
   "cell_type": "code",
   "execution_count": null,
   "metadata": {},
   "outputs": [],
   "source": []
  },
  {
   "cell_type": "code",
   "execution_count": null,
   "metadata": {},
   "outputs": [],
   "source": []
  },
  {
   "cell_type": "code",
   "execution_count": null,
   "metadata": {
    "scrolled": true
   },
   "outputs": [],
   "source": []
  },
  {
   "cell_type": "code",
   "execution_count": null,
   "metadata": {},
   "outputs": [],
   "source": []
  },
  {
   "cell_type": "code",
   "execution_count": null,
   "metadata": {},
   "outputs": [],
   "source": []
  }
 ],
 "metadata": {
  "kernelspec": {
   "display_name": "Python 3",
   "language": "python",
   "name": "python3"
  },
  "language_info": {
   "codemirror_mode": {
    "name": "ipython",
    "version": 3
   },
   "file_extension": ".py",
   "mimetype": "text/x-python",
   "name": "python",
   "nbconvert_exporter": "python",
   "pygments_lexer": "ipython3",
   "version": "3.7.3"
  }
 },
 "nbformat": 4,
 "nbformat_minor": 2
}
